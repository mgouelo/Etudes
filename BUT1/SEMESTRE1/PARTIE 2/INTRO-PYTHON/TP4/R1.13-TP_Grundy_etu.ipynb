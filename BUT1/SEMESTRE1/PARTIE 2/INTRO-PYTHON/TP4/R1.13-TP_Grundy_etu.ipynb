{
 "cells": [
  {
   "cell_type": "markdown",
   "id": "431dc8a1",
   "metadata": {},
   "source": [
    "# <center> R1.13 introduction à Python <br> TP4 - Nim, Grundy et IA </center>\n",
    "<center> 2024/2025 - Thibault Godin </center>\n",
    "<center> IUT de Vannes, BUT Informatique </center>\n",
    "\n",
    "***\n",
    "\n",
    "Dans ce TP, on va voir une méthode d'intelligence artificielle classique, **l'apprentissage par renforcement**\n",
    "\n",
    "\n",
    "On va présenter cette notion à l'aide d'une activité proposée par des collègues de la [Maison des Mathématiques et de l'Informatique](https://mmi-lyon.fr/) (MMI) et du réseau Informatique Débranchée sur le jeu de _Nim_, puis on essaiera de l'appliquer au jeu de Grundy vu en JAVA en R1.01\n",
    "\n",
    "\n",
    "\n",
    "- https://mmi-lyon.fr/?site_ressource_peda=jeu-de-nim-et-ia-avec-python\n",
    "- https://mmi-lyon.fr/?site_ressource_peda=jeu-de-nim-et-ia\n",
    "- video "
   ]
  },
  {
   "cell_type": "code",
   "execution_count": 1,
   "id": "2251f216",
   "metadata": {},
   "outputs": [],
   "source": [
    "import random\n",
    "import time\n",
    "\n",
    "import numpy as np\n",
    "\n",
    "\n",
    "import matplotlib.pyplot as plt\n",
    "%matplotlib inline\n",
    "plt.rcParams['figure.figsize'] = (12, 12)\n",
    "\n",
    "from IPython.display import HTML"
   ]
  },
  {
   "cell_type": "markdown",
   "id": "fe7153b6",
   "metadata": {},
   "source": [
    "# Jeu de Nim\n",
    "\n",
    "\n",
    "## Mise en place\n",
    "\n",
    "\n",
    "Le jeu de Nim se joue à 2 joueurs selon les règles suivantes : \n",
    "- On commence la partie avec un tas de $n$ allumettes\n",
    "- Les deux joueurs jouent alternativement\n",
    "- Seulement 1, 2, ou 3 allumette(s) peuvent être retirée(s) par un joueur à chaque tour (par simplicité, on peut limiter ce choix à 1 ou 2)\n",
    "- La personne qui tire la dernière alumettre a gagné (version normale, on peut aussi dire \"la personne qui ne peut plus jouer a perdu\")\n",
    "\n",
    ">**_question 1_** <br>\n",
    "jouer (en silence) une ou deux parties avec un voisin"
   ]
  },
  {
   "cell_type": "markdown",
   "id": "9ade4656",
   "metadata": {},
   "source": [
    ">**_question 2_**<br> \n",
    "lire (en diagonale) à quoi ressemblent les (stratégies gagnantes)[https://interstices.info/jeux-de-nim/] de ce jeu "
   ]
  },
  {
   "cell_type": "markdown",
   "id": "7c877c1e",
   "metadata": {},
   "source": [
    ">**_question 3_**<br> \n",
    "visualiser et comprendre l'apprentissage par renforcement proposé pour le jeu de Nim sur https://projet.liris.cnrs.fr/~mam/machine/\n",
    "\n",
    "\n",
    "\n",
    "\n",
    "--------------------------\n",
    "\n"
   ]
  },
  {
   "cell_type": "markdown",
   "id": "5e32529b",
   "metadata": {},
   "source": [
    "## Niammi : Nim Artificial Intelligence Maison des Mathématiques et de l'Informatique\n",
    "\n",
    "Voici un programme Python (implémenté par Olivier Druet de la MMI) permettant de jouer au jeu de Nim contre un ordinateur _qui apprend au fur et à mieux jouer_. \n",
    "\n",
    ">**_question 4_**<br> \n",
    "lire et comprendre"
   ]
  },
  {
   "cell_type": "code",
   "execution_count": 2,
   "id": "df897a3e",
   "metadata": {},
   "outputs": [
    {
     "name": "stdout",
     "output_type": "stream",
     "text": [
      "\n",
      "----------------------------------------------------------------------------\n",
      "                        Règles du jeu de Nim\n",
      "----------------------------------------------------------------------------\n",
      "Règles : 1 - L'utilisateur et l'ordinateur jouent à tour de rôle.\n",
      "         2 - L'ordinateur commence.\n",
      "         3 - Seulement 1 ou 2 bâtons peuvent être retirés à chaque coup.\n",
      "         4 - Celui qui tire le dernier bâton a gagné.\n",
      "         \n",
      "----------------------------------------------------------------------------\n",
      "                           Apprentissage\n",
      "----------------------------------------------------------------------------                        \n",
      "Suivant qu'il gagne ou perd, l'ordinateur reçoit une récompense ou une punition.\n",
      "----------------------------------------------------------------------------\n",
      "\n",
      "La probabilité de gain de l'ordinateur à la première partie si le joueur joue optimalement est de 12,5 %\n",
      "\n",
      "----------------------------------------------------------------------------\n",
      "         /   /   /   /   /   /   /   /\n",
      "----------------------------------------------------------------------------\n",
      "\n",
      "Il reste 8 allumettes.\n",
      "\n",
      "L'ordinateur choisit de retirer...\n",
      "2 allumettes.\n",
      "\n",
      "----------------------------------------------------------------------------\n",
      "         /   /   /   /   /   /\n",
      "----------------------------------------------------------------------------\n",
      "\n",
      "Il reste 6 allumettes.\n",
      "\n",
      "--À vous de jouer !--\n",
      "\n",
      "----------------------------------------------------------------------------\n",
      "         /   /   /   /   /\n",
      "----------------------------------------------------------------------------\n",
      "\n",
      "Il reste 5 allumettes.\n",
      "\n",
      "L'ordinateur choisit de retirer...\n",
      "2 allumettes.\n",
      "\n",
      "----------------------------------------------------------------------------\n",
      "         /   /   /\n",
      "----------------------------------------------------------------------------\n",
      "\n",
      "Il reste 3 allumettes.\n",
      "\n",
      "--À vous de jouer !--\n",
      "\n",
      "----------------------------------------------------------------------------\n",
      "         /\n",
      "----------------------------------------------------------------------------\n",
      "\n",
      "Il reste 1 allumettes.\n",
      "\n",
      "L'ordinateur choisit de retirer...\n",
      "1 allumette.\n",
      "\n",
      "----------------------------------------------------------------------------\n",
      "L'ordinateur a gagné, nous allons le récompenser.\n",
      "----------------------------------------------------------------------------\n",
      "\n",
      "Dans le verre 1, il y a 3 boules jaunes et 0 boules rouges.\n",
      "Dans le verre 2, il y a 2 boules jaunes et 2 boules rouges.\n",
      "Dans le verre 3, il y a 2 boules jaunes et 2 boules rouges.\n",
      "Dans le verre 4, il y a 2 boules jaunes et 2 boules rouges.\n",
      "Dans le verre 5, il y a 2 boules jaunes et 3 boules rouges.\n",
      "Dans le verre 6, il y a 2 boules jaunes et 2 boules rouges.\n",
      "Dans le verre 7, il y a 2 boules jaunes et 2 boules rouges.\n",
      "Dans le verre 8, il y a 2 boules jaunes et 3 boules rouges.\n",
      "\n",
      "----------------------------------------------------------------------------\n",
      "Vous avez joué 1 parties.\n",
      "----------------------------------------------------------------------------\n",
      "\n",
      "\n",
      "----------------------------------------------------------------------------\n",
      "La probabilité de gain de l'ordinateur à la prochaine partie si le joueur joue optimalement (en connaissant l'état des verres :-)) est de 15.0%\n",
      "----------------------------------------------------------------------------\n",
      "\n"
     ]
    }
   ],
   "source": [
    "#!/usr/bin/env python3\n",
    "# -*- coding: utf-8 -*-\n",
    "\"\"\"\n",
    "Created on Fri Jan 21 10:32:50 2022\n",
    "\n",
    "@author: druet\n",
    "\"\"\"\n",
    "\n",
    "import random\n",
    "import time\n",
    "\n",
    "\n",
    "################### le message de bienvenue et d'explication ##################\n",
    "\n",
    "def welcome_message():\n",
    "    print(\"\"\"\n",
    "----------------------------------------------------------------------------\n",
    "                        Règles du jeu de Nim\n",
    "----------------------------------------------------------------------------\n",
    "Règles : 1 - L'utilisateur et l'ordinateur jouent à tour de rôle.\n",
    "         2 - L'ordinateur commence.\n",
    "         3 - Seulement 1 ou 2 bâtons peuvent être retirés à chaque coup.\n",
    "         4 - Celui qui tire le dernier bâton a gagné.\n",
    "         \n",
    "----------------------------------------------------------------------------\n",
    "                           Apprentissage\n",
    "----------------------------------------------------------------------------                        \n",
    "Suivant qu'il gagne ou perd, l'ordinateur reçoit une récompense ou une punition.\n",
    "----------------------------------------------------------------------------\n",
    "\"\"\")\n",
    "\n",
    "#### Nous faisons commencer l'ordinateur parce que le premier joueur a une \n",
    "#### stratégie gagnante. Si le joueur commence et qu'il joue bien, la machine \n",
    "#### perdra quoiqu'elle fasse et n'apprendra rien. \n",
    "\n",
    "###############################################################################\n",
    "\n",
    "\n",
    "################## définition et impression de la position de jeu #############\n",
    "\n",
    "def printboard(n):\n",
    "    board=[]\n",
    "    for _ in range(n):\n",
    "        board.append(\"/\")\n",
    "    print(\"\\n----------------------------------------------------------------------------\")\n",
    "    print(\"      \",*board, sep=\"   \")\n",
    "    print(\"----------------------------------------------------------------------------\\n\")\n",
    "    print(\"Il reste \" + str(n) + \" allumettes.\")\n",
    "    \n",
    "###############################################################################\n",
    "\n",
    "\n",
    "################### initialisation de la machine ##############################\n",
    "\n",
    "nombre_allumettes=8 ### vous pouvez changer le nombre d'allumettes de départ\n",
    "board = [] ### le plateau de jeu\n",
    "boulesjaunes = [] ### correspond au nombre de boules jaunes dans la case\n",
    "boulesrouges = [] ### correspond au nombre de boules rouges dans la case\n",
    "tirage = [] ### correspondra au tirage dans une partie\n",
    "for _ in range(nombre_allumettes):\n",
    "    boulesjaunes.append(2)\n",
    "    boulesrouges.append(2)\n",
    "    tirage.append(0)\n",
    "#### Attention Python commence à 0 #####\n",
    "boulesrouges[0]=0 #### il ne faut pas mettre de boules rouges dans la case 0, coup interdit\n",
    "\n",
    "\n",
    "###############################################################################\n",
    "\n",
    "\n",
    "#################### programme principal : jeu + renforcement #################\n",
    "welcome_message()\n",
    "uneautrepartie=True\n",
    "compteur_partie=0\n",
    "time.sleep(1)\n",
    "print(\"La probabilité de gain de l'ordinateur à la première partie si le joueur joue optimalement est de 12,5 %\")\n",
    "time.sleep(1)\n",
    "while uneautrepartie :\n",
    "    player = \"CMP\"\n",
    "    allumettes=nombre_allumettes\n",
    "    tirage=[0,0,0,0,0,0,0,0]\n",
    "    while allumettes>0:\n",
    "        printboard(allumettes)  ### imprime la position de jeu\n",
    "        time.sleep(1)\n",
    "        if player=='CMP': ### c'est à l'ordinateur de jouer\n",
    "            print(\"\\nL'ordinateur choisit de retirer...\")\n",
    "            time.sleep(1)\n",
    "            somme=boulesjaunes[allumettes-1]+boulesrouges[allumettes-1]\n",
    "            boulehasard=random.randint(1,somme)##permet de tirer jaune ou rouge\n",
    "            if boulehasard <= boulesjaunes[allumettes-1]: ##la machine a tiré jaune, i.e. elle enlève une allumette\n",
    "                tirage[allumettes-1]=1\n",
    "                allumettes=allumettes-1\n",
    "                print(\"1 allumette.\")\n",
    "            else:\n",
    "                tirage[allumettes-1]=2\n",
    "                allumettes=allumettes-2\n",
    "                print(\"2 allumettes.\")\n",
    "            if allumettes==0:\n",
    "                winner='CMP'\n",
    "            else:\n",
    "                player='USER'  \n",
    "        else: ### c'est au joueur de jouer\n",
    "#### on demande au joueur ce qu'il souhaite jouer avec vérification que c'est un coup légal\n",
    "            coup_joueur=0\n",
    "            print(\"\\n--À vous de jouer !--\")\n",
    "            while coup_joueur not in range(1, 3) or coup_joueur>allumettes:\n",
    "                try:\n",
    "                    coup_joueur = int(input(\"\\nQuel est votre choix ?\"))\n",
    "                    if coup_joueur == 0:\n",
    "                        print(\"\\nVous devez enlever au moins une allumette !\")\n",
    "                    elif coup_joueur not in range(1, 3) or coup_joueur>allumettes:\n",
    "                        print(\"\\nVous ne pouvez pas enlever autant d'allumettes !\")\n",
    "                        coup_joueur = int(input(\"\\nQuel est votre choix ?\"))\n",
    "                except Exception as e:\n",
    "                    print(\"\\nCela ne semble pas une réponse valide.\\nError: \" + str(e) + \"\\nRecommencez !\")\n",
    "##### fin du choix du joueur\n",
    "            allumettes=allumettes-coup_joueur\n",
    "            if allumettes==0:\n",
    "                winner='USER'\n",
    "            else:\n",
    "                player='CMP' \n",
    "    compteur_partie+=1\n",
    "##### fin de la partie ######\n",
    "##### annonce des résultats #####\n",
    "    if winner=='CMP':\n",
    "        print(\"\\n----------------------------------------------------------------------------\")\n",
    "        print(\"L'ordinateur a gagné, nous allons le récompenser.\")\n",
    "        print(\"----------------------------------------------------------------------------\\n\")\n",
    "    else:\n",
    "        print(\"\\n----------------------------------------------------------------------------\")\n",
    "        print(\"Bravo ! Vous avez gagné ! Nous allons punir l'ordinateur.\")\n",
    "        print(\"----------------------------------------------------------------------------\\n\")\n",
    "##### Apprentissage : récompense ou punition de l'ordinateur#####        \n",
    "    if winner=='CMP': ###récompense\n",
    "        for i in range(nombre_allumettes):\n",
    "            if tirage[i]==1:\n",
    "                boulesjaunes[i]=boulesjaunes[i]+1\n",
    "            if tirage[i]==2:\n",
    "                boulesrouges[i]=boulesrouges[i]+1\n",
    "    else: ###punition\n",
    "        for i in range(nombre_allumettes):\n",
    "            if tirage[i]==1:\n",
    "                boulesjaunes[i]=boulesjaunes[i]-1\n",
    "            if tirage[i]==2:\n",
    "                boulesrouges[i]=boulesrouges[i]-1\n",
    "####### fin de la récompense ou de la punition #################\n",
    "####### réinitialisation des verres vides ######################\n",
    "    for i in range(nombre_allumettes):\n",
    "        if (boulesjaunes[i]==0) and (boulesrouges[i]==0):\n",
    "            boulesjaunes[i]=2\n",
    "            boulesrouges[i]=2\n",
    "######## impression de l'état des verres #######################\n",
    "    time.sleep(1)\n",
    "    for i in range(nombre_allumettes):\n",
    "        print(\"Dans le verre \" + str(i+1) +\", il y a \" + str(boulesjaunes[i]) + \" boules jaunes et \" + str(boulesrouges[i]) + \" boules rouges.\")\n",
    "################################################################\n",
    "############ calcul de la probabilité de gagner ################\n",
    "    time.sleep(1)\n",
    "    if (boulesjaunes[3]/(boulesjaunes[3]+boulesrouges[3]))>(boulesrouges[4]/(boulesjaunes[4]+boulesrouges[4])):\n",
    "        proba=(boulesrouges[7]/(boulesjaunes[7]+boulesrouges[7]))*(boulesrouges[4]/(boulesjaunes[4]+boulesrouges[4]))*(boulesrouges[1]/(boulesjaunes[1]+boulesrouges[1]))\n",
    "    else:\n",
    "        proba=(boulesrouges[7]/(boulesjaunes[7]+boulesrouges[7]))*(boulesjaunes[3]/(boulesjaunes[3]+boulesrouges[3]))*(boulesrouges[1]/(boulesjaunes[1]+boulesrouges[1]))\n",
    "    print(\"\\n----------------------------------------------------------------------------\")\n",
    "    print(\"Vous avez joué \"+ str(compteur_partie) +\" parties.\")\n",
    "    print(\"----------------------------------------------------------------------------\\n\")\n",
    "    print(\"\\n----------------------------------------------------------------------------\")\n",
    "    print(\"La probabilité de gain de l'ordinateur à la prochaine partie si le joueur joue optimalement (en connaissant l'état des verres :-)) est de \" + str(round(proba*100,2)) + \"%\")\n",
    "    print(\"----------------------------------------------------------------------------\\n\")\n",
    "################################################################\n",
    "############ On continue ? ################    \n",
    "    test=True\n",
    "    while test:\n",
    "        another_go = input(\"\\nVoulez-vous rejouer ?[O/N]: \")\n",
    "        if another_go in (\"o\",\"O\"):\n",
    "            uneautrepartie=True\n",
    "            test=False\n",
    "        elif another_go in (\"n\",\"N\"):\n",
    "            uneautrepartie=False\n",
    "            test=False\n",
    "        else:\n",
    "            print(\"\\nChoix invalide. Recommencez !\")    \n",
    "############################################            \n",
    "            \n",
    "\n",
    "\n",
    "\n",
    "\n",
    " \n"
   ]
  },
  {
   "cell_type": "markdown",
   "id": "2f3982b9",
   "metadata": {},
   "source": [
    "# Grundy\n",
    "\n",
    "\n",
    "plan conseillé : \n",
    "\n",
    "1. affichage du plateau\n",
    "2. alternance des joueurs et propositions des coups admissibles\n",
    "3. condition de victoire\n",
    "4. stockage de stratégie\n",
    "5. jeu humain v. humain\n",
    "6. jeu humain v. ordinateur\n",
    "8. règle de l'apprentissage de l'ordinateur (en cas de victoire ou de défaite)\n",
    "9. entrainement de l'ordinateur contre l'humain\n",
    "10. entrainement de l'ordinateur contre le hasard\n",
    "11. entrainement de l'ordinateur contre l'ordinateur\n",
    "\n",
    "\n",
    "Vous pouvez bien sûr recycler du code Java de R1.01, ainsi que le code de Nim proposé plus haut (essayez d'être aussi clair dans votre code).\n",
    "\n",
    "Le jeu de Grundy étant plus complexe que celui de Nim, on fera des fonctions !\n",
    "\n",
    "**bonus** Une fois la machine entrainée, retrouver les positions gagnante à l'aide de la stratégie obtenue"
   ]
  },
  {
   "cell_type": "code",
   "execution_count": 3,
   "id": "08de7b61",
   "metadata": {},
   "outputs": [
    {
     "name": "stdout",
     "output_type": "stream",
     "text": [
      "\n"
     ]
    }
   ],
   "source": [
    "def display_board_with_x(l):\n",
    "\n",
    "    print()\n",
    "\n",
    "# Example usage:\n",
    "l=[2,3,1,1]\n",
    "display_board_with_x(l)\n"
   ]
  },
  {
   "cell_type": "code",
   "execution_count": 4,
   "id": "1d214dba",
   "metadata": {},
   "outputs": [],
   "source": [
    "# def coupJoueur(l):\n",
    "\n"
   ]
  },
  {
   "cell_type": "code",
   "execution_count": 5,
   "id": "e4e799be",
   "metadata": {},
   "outputs": [
    {
     "name": "stdout",
     "output_type": "stream",
     "text": [
      "\n",
      "Choix invalide. Recommencez !\n"
     ]
    }
   ],
   "source": [
    "def PartieJvJ():\n",
    "   \n",
    "    print(\"\\nChoix invalide. Recommencez !\")    \n",
    "    ############################################            \n",
    "            \n",
    "PartieJvJ()"
   ]
  },
  {
   "cell_type": "markdown",
   "id": "d4b11135",
   "metadata": {},
   "source": [
    "### Quelques fonctions pouvant être utiles"
   ]
  },
  {
   "cell_type": "code",
   "execution_count": 6,
   "id": "2ad17136",
   "metadata": {},
   "outputs": [
    {
     "data": {
      "text/plain": [
       "True"
      ]
     },
     "execution_count": 6,
     "metadata": {},
     "output_type": "execute_result"
    }
   ],
   "source": [
    "np.random.rand()< .5"
   ]
  },
  {
   "cell_type": "code",
   "execution_count": 7,
   "id": "d6a047d6",
   "metadata": {},
   "outputs": [
    {
     "data": {
      "text/plain": [
       "{'c': 0.33361, 'a': 0.50147, 'b': 0.16492}"
      ]
     },
     "execution_count": 7,
     "metadata": {},
     "output_type": "execute_result"
    }
   ],
   "source": [
    "#random values with dictionaries\n",
    "\n",
    "\n",
    "from collections import Counter\n",
    "\n",
    "\n",
    "d = {\n",
    " 'a': [1, 3, 2],\n",
    " 'b': [6],\n",
    " 'c': [0, 0]\n",
    "}\n",
    "\n",
    "\n",
    "\n",
    "n = 100000\n",
    "l = [random.choice([key for key, values in d.items() for x in values]) for i in range(n)]\n",
    "\n",
    "cnt = Counter(l)\n",
    "frq = {k: v / n for k, v in cnt.items()}\n",
    "frq"
   ]
  },
  {
   "cell_type": "code",
   "execution_count": 8,
   "id": "d9a4086f",
   "metadata": {},
   "outputs": [
    {
     "data": {
      "text/plain": [
       "{'a': 0.57071, 'c': 0.28782, 'b': 0.14147}"
      ]
     },
     "execution_count": 8,
     "metadata": {},
     "output_type": "execute_result"
    }
   ],
   "source": [
    "#random values \n",
    "\n",
    "from collections import Counter\n",
    "\n",
    "\n",
    "d = {\n",
    " 'a': 4,\n",
    " 'b': 1,\n",
    " 'c': 2\n",
    "}\n",
    "\n",
    "\n",
    "\n",
    "n = 100000\n",
    "l = [random.choice([key for key, value in d.items() for x in range(value)]) for i in range(n)]\n",
    "\n",
    "cnt = Counter(l)\n",
    "frq = {k: v / n for k, v in cnt.items()}\n",
    "frq"
   ]
  },
  {
   "cell_type": "code",
   "execution_count": 9,
   "id": "304aa67d",
   "metadata": {},
   "outputs": [
    {
     "data": {
      "text/plain": [
       "7"
      ]
     },
     "execution_count": 9,
     "metadata": {},
     "output_type": "execute_result"
    }
   ],
   "source": [
    "sorted(d, key=d.get)[-2] \n",
    "sum(d.values())"
   ]
  },
  {
   "cell_type": "code",
   "execution_count": 10,
   "id": "c9d56e00",
   "metadata": {},
   "outputs": [
    {
     "ename": "NameError",
     "evalue": "name 'new' is not defined",
     "output_type": "error",
     "traceback": [
      "\u001b[1;31m---------------------------------------------------------------------------\u001b[0m",
      "\u001b[1;31mNameError\u001b[0m                                 Traceback (most recent call last)",
      "Cell \u001b[1;32mIn[10], line 4\u001b[0m\n\u001b[0;32m      2\u001b[0m \u001b[38;5;28;01mdef\u001b[39;00m \u001b[38;5;21mintlist2str\u001b[39m(l):\n\u001b[0;32m      3\u001b[0m     \u001b[38;5;28;01mreturn\u001b[39;00m(\u001b[38;5;124m\"\u001b[39m\u001b[38;5;124m\"\u001b[39m\u001b[38;5;241m.\u001b[39mjoin(\u001b[38;5;28mstr\u001b[39m(i) \u001b[38;5;28;01mfor\u001b[39;00m i \u001b[38;5;129;01min\u001b[39;00m l))\n\u001b[1;32m----> 4\u001b[0m intlist2str(\u001b[43mnew\u001b[49m)\n\u001b[0;32m      6\u001b[0m \u001b[38;5;28;01mdef\u001b[39;00m \u001b[38;5;21mstr2intlist\u001b[39m(s):\n\u001b[0;32m      7\u001b[0m     l\u001b[38;5;241m=\u001b[39m[]\n",
      "\u001b[1;31mNameError\u001b[0m: name 'new' is not defined"
     ]
    }
   ],
   "source": [
    "l = [1, 2, 3, 4, 5, 6]\n",
    "def intlist2str(l):\n",
    "    return(\"\".join(str(i) for i in l))\n",
    "intlist2str(new)\n",
    "\n",
    "def str2intlist(s):\n",
    "    l=[]\n",
    "    for c in s:\n",
    "        l.append(int(c))\n",
    "    return l\n",
    "str2intlist('1234')"
   ]
  },
  {
   "cell_type": "markdown",
   "id": "094bb92a",
   "metadata": {},
   "source": [
    "### Un exemple de résultat attendu"
   ]
  },
  {
   "cell_type": "code",
   "execution_count": 102,
   "id": "2df07688",
   "metadata": {},
   "outputs": [
    {
     "name": "stdout",
     "output_type": "stream",
     "text": [
      "Après entrainement contre un environement jouant aléatoirement, l'ordinateur gagne \n",
      " -------------- 0.8807 % du temps\n"
     ]
    },
    {
     "data": {
      "image/png": "[encoded data removed]",
      "text/plain": [
       "<Figure size 1200x1200 with 1 Axes>"
      ]
     },
     "metadata": {},
     "output_type": "display_data"
    }
   ],
   "source": []
  }
 ],
 "metadata": {
  "kernelspec": {
   "display_name": "Python 3",
   "language": "python",
   "name": "python3"
  },
  "language_info": {
   "codemirror_mode": {
    "name": "ipython",
    "version": 3
   },
   "file_extension": ".py",
   "mimetype": "text/x-python",
   "name": "python",
   "nbconvert_exporter": "python",
   "pygments_lexer": "ipython3",
   "version": "3.12.8"
  }
 },
 "nbformat": 4,
 "nbformat_minor": 5
}
