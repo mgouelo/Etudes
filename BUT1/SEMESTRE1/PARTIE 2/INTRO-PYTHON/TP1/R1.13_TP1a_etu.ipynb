{
 "cells": [
  {
   "cell_type": "markdown",
   "metadata": {},
   "source": [
    "# <center> R1.13 introduction à Python <br> TP1a - boucles et récurrences : révisions sur les suites  </center>\n",
    "<center> 2024/2025 - Thibault Godin </center>\n",
    "<center> IUT de Vannes, BUT Informatique </center>\n",
    "\n",
    "***\n",
    "\n"
   ]
  },
  {
   "cell_type": "code",
   "execution_count": 2,
   "metadata": {},
   "outputs": [
    {
     "name": "stdout",
     "output_type": "stream",
     "text": [
      "Defaulting to user installation because normal site-packages is not writeable\n",
      "Collecting matplotlib\n",
      "  Downloading matplotlib-3.9.4-cp312-cp312-win_amd64.whl.metadata (11 kB)\n",
      "Collecting contourpy>=1.0.1 (from matplotlib)\n",
      "  Downloading contourpy-1.3.1-cp312-cp312-win_amd64.whl.metadata (5.4 kB)\n",
      "Collecting cycler>=0.10 (from matplotlib)\n",
      "  Downloading cycler-0.12.1-py3-none-any.whl.metadata (3.8 kB)\n",
      "Collecting fonttools>=4.22.0 (from matplotlib)\n",
      "  Downloading fonttools-4.55.3-cp312-cp312-win_amd64.whl.metadata (168 kB)\n",
      "Collecting kiwisolver>=1.3.1 (from matplotlib)\n",
      "  Downloading kiwisolver-1.4.7-cp312-cp312-win_amd64.whl.metadata (6.4 kB)\n",
      "Requirement already satisfied: numpy>=1.23 in c:\\users\\matth\\appdata\\local\\packages\\pythonsoftwarefoundation.python.3.12_qbz5n2kfra8p0\\localcache\\local-packages\\python312\\site-packages (from matplotlib) (2.2.0)\n",
      "Requirement already satisfied: packaging>=20.0 in c:\\users\\matth\\appdata\\local\\packages\\pythonsoftwarefoundation.python.3.12_qbz5n2kfra8p0\\localcache\\local-packages\\python312\\site-packages (from matplotlib) (24.2)\n",
      "Collecting pillow>=8 (from matplotlib)\n",
      "  Downloading pillow-11.0.0-cp312-cp312-win_amd64.whl.metadata (9.3 kB)\n",
      "Collecting pyparsing>=2.3.1 (from matplotlib)\n",
      "  Downloading pyparsing-3.2.0-py3-none-any.whl.metadata (5.0 kB)\n",
      "Requirement already satisfied: python-dateutil>=2.7 in c:\\users\\matth\\appdata\\local\\packages\\pythonsoftwarefoundation.python.3.12_qbz5n2kfra8p0\\localcache\\local-packages\\python312\\site-packages (from matplotlib) (2.9.0.post0)\n",
      "Requirement already satisfied: six>=1.5 in c:\\users\\matth\\appdata\\local\\packages\\pythonsoftwarefoundation.python.3.12_qbz5n2kfra8p0\\localcache\\local-packages\\python312\\site-packages (from python-dateutil>=2.7->matplotlib) (1.17.0)\n",
      "Downloading matplotlib-3.9.4-cp312-cp312-win_amd64.whl (7.8 MB)\n",
      "   ---------------------------------------- 0.0/7.8 MB ? eta -:--:--\n",
      "   ---- ----------------------------------- 0.8/7.8 MB 5.6 MB/s eta 0:00:02\n",
      "   -------- ------------------------------- 1.6/7.8 MB 3.5 MB/s eta 0:00:02\n",
      "   ------------ --------------------------- 2.4/7.8 MB 3.7 MB/s eta 0:00:02\n",
      "   ----------------- ---------------------- 3.4/7.8 MB 4.1 MB/s eta 0:00:02\n",
      "   ---------------------- ----------------- 4.5/7.8 MB 4.2 MB/s eta 0:00:01\n",
      "   -------------------------- ------------- 5.2/7.8 MB 4.2 MB/s eta 0:00:01\n",
      "   ------------------------------ --------- 6.0/7.8 MB 4.1 MB/s eta 0:00:01\n",
      "   ---------------------------------- ----- 6.8/7.8 MB 4.1 MB/s eta 0:00:01\n",
      "   -------------------------------------- - 7.6/7.8 MB 4.1 MB/s eta 0:00:01\n",
      "   ---------------------------------------- 7.8/7.8 MB 4.0 MB/s eta 0:00:00\n",
      "Downloading contourpy-1.3.1-cp312-cp312-win_amd64.whl (220 kB)\n",
      "Downloading cycler-0.12.1-py3-none-any.whl (8.3 kB)\n",
      "Downloading fonttools-4.55.3-cp312-cp312-win_amd64.whl (2.2 MB)\n",
      "   ---------------------------------------- 0.0/2.2 MB ? eta -:--:--\n",
      "   ------------------ --------------------- 1.0/2.2 MB 5.6 MB/s eta 0:00:01\n",
      "   --------------------------------- ------ 1.8/2.2 MB 4.6 MB/s eta 0:00:01\n",
      "   ---------------------------------------- 2.2/2.2 MB 4.4 MB/s eta 0:00:00\n",
      "Downloading kiwisolver-1.4.7-cp312-cp312-win_amd64.whl (55 kB)\n",
      "Downloading pillow-11.0.0-cp312-cp312-win_amd64.whl (2.6 MB)\n",
      "   ---------------------------------------- 0.0/2.6 MB ? eta -:--:--\n",
      "   ------------ --------------------------- 0.8/2.6 MB 4.2 MB/s eta 0:00:01\n",
      "   -------------------- ------------------- 1.3/2.6 MB 3.4 MB/s eta 0:00:01\n",
      "   -------------------------------- ------- 2.1/2.6 MB 3.9 MB/s eta 0:00:01\n",
      "   ---------------------------------------- 2.6/2.6 MB 3.5 MB/s eta 0:00:00\n",
      "Downloading pyparsing-3.2.0-py3-none-any.whl (106 kB)\n",
      "Installing collected packages: pyparsing, pillow, kiwisolver, fonttools, cycler, contourpy, matplotlib\n",
      "Successfully installed contourpy-1.3.1 cycler-0.12.1 fonttools-4.55.3 kiwisolver-1.4.7 matplotlib-3.9.4 pillow-11.0.0 pyparsing-3.2.0\n",
      "Note: you may need to restart the kernel to use updated packages.\n"
     ]
    }
   ],
   "source": [
    "pip install matplotlib"
   ]
  },
  {
   "cell_type": "code",
   "execution_count": 3,
   "metadata": {},
   "outputs": [],
   "source": [
    "import math\n",
    "import numpy as np\n",
    "\n",
    "import matplotlib.pyplot as plt"
   ]
  },
  {
   "cell_type": "markdown",
   "metadata": {},
   "source": [
    "# 1: 1 lapin, 2 lapins, 3 lapins ...\n",
    "\n",
    "Un mathématicien (très) naïf a entendu dire que les lapins se reproduisent. Il suppose donc que si on commence avec $a$ lapins, la population devrait augmenter.\n",
    "\n",
    "Ayant des connaissances (très) limitées en biologie, il propose de modéliser le nombre de lapins avec la suite la plus simple qu'il connaisse, la **suite arithmétique**.\n",
    "\n",
    "\n",
    "Voici une implémentation récursive de cette suite $u_0=a$ ; $u_{n+1}=u_n + r$."
   ]
  },
  {
   "cell_type": "code",
   "execution_count": 4,
   "metadata": {},
   "outputs": [
    {
     "data": {
      "text/plain": [
       "21"
      ]
     },
     "execution_count": 4,
     "metadata": {},
     "output_type": "execute_result"
    }
   ],
   "source": [
    "def arithmetic_rec(r,a,n):\n",
    "    '''\n",
    "    in: common adding r, initial term , number of iteration n\n",
    "    type: q float, r float, n int\n",
    "    return: n-th term of the arithmetic progression\n",
    "    rtype:float\n",
    "    '''\n",
    "    if n==0:\n",
    "        return a\n",
    "    else :\n",
    "        return arithmetic_rec(r,a,n-1) +r\n",
    "    \n",
    "arithmetic_rec(2,11,5)\n",
    "\n",
    "\n"
   ]
  },
  {
   "cell_type": "markdown",
   "metadata": {},
   "source": [
    "\n",
    ">**question 1:** \n",
    ">écrire une fonction <tt> arithmetic </tt> qui calcule $u_n$ de manière itérative (c-à-d avec une boucle).\n",
    ">\n",
    ">Donner une formule explicite pour $u_n$\n"
   ]
  },
  {
   "cell_type": "code",
   "execution_count": 5,
   "metadata": {},
   "outputs": [
    {
     "data": {
      "text/plain": [
       "20010"
      ]
     },
     "execution_count": 5,
     "metadata": {},
     "output_type": "execute_result"
    }
   ],
   "source": [
    "def arithmetic(r,a,n):\n",
    "    '''\n",
    "    in: common adding r, initial term , number of iteration n\n",
    "    type: q float, r float, n int\n",
    "    return: n-th term of the arithmetic progression\n",
    "    rtype:float\n",
    "    '''\n",
    "    for i in range(n):\n",
    "        a += r\n",
    "     \n",
    "    return a\n",
    "\n",
    "arithmetic(2, 10, 10000)"
   ]
  },
  {
   "cell_type": "markdown",
   "metadata": {},
   "source": [
    "\n",
    ">**question 2:** \n",
    ">écrire une fonction <tt> arithmetic_list </tt> qui calcule les $n$ premiers termes de la suite $(u_n)$ en utilisant >les une [liste en compréhension](https://docs.python.org/3.10/tutorial/datastructures.html#list-comprehensions).\n",
    "\n"
   ]
  },
  {
   "cell_type": "code",
   "execution_count": null,
   "metadata": {},
   "outputs": [
    {
     "data": {
      "text/plain": [
       "[1, 3, 5, 7, 9, 11, 13, 15, 17, 19, 21, 23, 25, 27, 29, 31, 33, 35, 37, 39]"
      ]
     },
     "execution_count": 26,
     "metadata": {},
     "output_type": "execute_result"
    }
   ],
   "source": [
    "\n",
    "def arithmetic_list(r,a,n):\n",
    "    '''\n",
    "    in: common adding r, initial term , number of iteration n\n",
    "    type: q float, r float, n int\n",
    "    return: n-th terms of the arithmetic progression\n",
    "    rtype:float\n",
    "    '''\n",
    "    return [a + r * i for i in range(n)]\n",
    "\n",
    "    for i in range(n):\n",
    "        a = a + r\n",
    "\n",
    "\n",
    "arithmetic_list(2,1,20)"
   ]
  },
  {
   "cell_type": "markdown",
   "metadata": {},
   "source": [
    "On peut maintenant tracer les $100$ premiers termes de la suite.\n",
    "\n",
    "\n",
    "\n",
    "\n"
   ]
  },
  {
   "cell_type": "code",
   "execution_count": 28,
   "metadata": {},
   "outputs": [
    {
     "data": {
      "image/png": "[encoded data removed]",
      "text/plain": [
       "<Figure size 640x480 with 1 Axes>"
      ]
     },
     "metadata": {},
     "output_type": "display_data"
    }
   ],
   "source": [
    "n = 25\n",
    "rg = range(0, n)\n",
    "s1 = arithmetic_list(2,3,n) \n",
    "\n",
    "\n",
    "plt.title('arithmetic rabbits')\n",
    "plt.plot(rg, s1, 'ro', markersize=4)\n",
    "\n",
    "\n",
    "plt.show()\n"
   ]
  },
  {
   "cell_type": "markdown",
   "metadata": {},
   "source": [
    ">**question 3** Décrire tous les comportements possibles pour $u_n$ selon les choix de $a$ et $r$. Quels choix sont pertinents ici en terme de modélisation ?\n",
    "\n"
   ]
  },
  {
   "cell_type": "markdown",
   "metadata": {},
   "source": [
    "| behaviour of $u_n$ | $r<0$ | $r=0$ | $r>0$ |\n",
    "| :- | -: | :-: |---|\n",
    "| $a$ | variation, limite ... | 1 | ∞ |\n"
   ]
  },
  {
   "cell_type": "markdown",
   "metadata": {},
   "source": [
    ">**question 4 (à faire à la fin):** \n",
    "écrire une fonction <tt> arithmetic_sum </tt> qui vérifie la formule donnant la somme d'une suite arithmétique entre les borne $k$ et $n$ :\n",
    "\n",
    "$$\\sum_{i=k}^n u_i  = \\frac{(u_n+u_k)(n-k +1)}{2}$$"
   ]
  },
  {
   "cell_type": "code",
   "execution_count": 31,
   "metadata": {},
   "outputs": [
    {
     "data": {
      "text/plain": [
       "119.0"
      ]
     },
     "execution_count": 31,
     "metadata": {},
     "output_type": "execute_result"
    }
   ],
   "source": [
    "def arithmetic_sum(r, a, k, n):\n",
    "    '''\n",
    "    in: common adding r, initial term ,bounds k and  n\n",
    "    type: q float, r float, n int\n",
    "    return: checks if the formula is sound\n",
    "    rtype: bool\n",
    "    '''\n",
    "    return ((a + r*n) + (a + r*k)) * (n - k + 1) / 2\n",
    "\n",
    "arithmetic_sum(2, 3, 4, 10) "
   ]
  },
  {
   "cell_type": "markdown",
   "metadata": {},
   "source": [
    "# 2: 1 couple of rabbits, 2 couples of rabbits, 4 couples of rabbits\n",
    "\n",
    "\n",
    "Une mathématicienne _bien mieux informée_ (mais qui n'a clairement pas souvent vu de vrais lapins) sait que les lapins ont des lapereaux qui peuvent eux-mêmes se reproduire. Elle propose donc une autre modélisation de la croissance de la population : la **suite géométrique** $u_0=a$ ; $u_{n+1}=qu_n$.\n",
    "\n",
    "_Cette modélisation simpliste est une théorie qui a réellement été proposée au XIXème siècle par Thomas R. Malthus, qui prédisait alors une  [explosion démographique](https://en.wikipedia.org/wiki/Malthusianism) et en tirait certaines conclusions très politiques_"
   ]
  },
  {
   "cell_type": "markdown",
   "metadata": {},
   "source": [
    ">**question 1:** Écrire une fonction <tt>geometric_rec</tt> qui calcule $u_n$ de manière recursive (c-à-d sans boucle).\n",
    "\n"
   ]
  },
  {
   "cell_type": "code",
   "execution_count": 55,
   "metadata": {},
   "outputs": [
    {
     "data": {
      "text/plain": [
       "352"
      ]
     },
     "execution_count": 55,
     "metadata": {},
     "output_type": "execute_result"
    }
   ],
   "source": [
    "def geometric_rec(q,a,n):\n",
    "    '''\n",
    "    in: common ratio q, scale factor a, number of iteration n\n",
    "    type: q float, a float, n int\n",
    "    return: n-th term of the geometric progression\n",
    "    rtype:float\n",
    "    '''\n",
    "    if n == 0:\n",
    "        return a\n",
    "    else:\n",
    "        return geometric_rec(q, a * q, n - 1)\n",
    "    \n",
    "geometric_rec(2,11,5)"
   ]
  },
  {
   "cell_type": "markdown",
   "metadata": {},
   "source": [
    "\n",
    ">**question 2:** Écrire une fonction <tt>geometric</tt> qui calcule $u_n$ de manière itérative (c-à-d avec une boucle).\n",
    ">\n",
    ">Donner une formule explicite pour $u_n$"
   ]
  },
  {
   "cell_type": "code",
   "execution_count": 34,
   "metadata": {},
   "outputs": [
    {
     "data": {
      "text/plain": [
       "335937500000000000000000000000"
      ]
     },
     "execution_count": 34,
     "metadata": {},
     "output_type": "execute_result"
    }
   ],
   "source": [
    "def geometric(q,a,n):\n",
    "    '''\n",
    "    in: common ratio q, scale factor a, number of iteration n\n",
    "    type: q float, a float, n int\n",
    "    return: n-th term of the geometric progression\n",
    "    rtype:float\n",
    "    '''\n",
    "    for i in range(n):\n",
    "        a *= q\n",
    "\n",
    "    return a\n",
    "\n",
    "geometric(500, 344, 10)"
   ]
  },
  {
   "cell_type": "code",
   "execution_count": 46,
   "metadata": {},
   "outputs": [
    {
     "data": {
      "text/plain": [
       "[344, 1032, 3096, 9288, 27864, 83592, 250776, 752328, 2256984, 6770952]"
      ]
     },
     "execution_count": 46,
     "metadata": {},
     "output_type": "execute_result"
    }
   ],
   "source": [
    "def geometric_list(q,a,n):\n",
    "    '''\n",
    "    in: common ratio q, scale factor a, number of iteration n\n",
    "    type: q float, a float, n int\n",
    "    return: n-th term of the geometric progression\n",
    "    rtype:float\n",
    "    '''\n",
    "    return [a * q**i for i in range(n)]\n",
    "\n",
    "geometric_list(3, 344, 10)"
   ]
  },
  {
   "cell_type": "markdown",
   "metadata": {},
   "source": [
    "On peut maintenant tracer les $100$ premiers termes de la suite.\n",
    "\n",
    "Dans ce genre de situation, comme $u_n$ augmente très rapidement, il peut-être intéressant de tracer $\\log u_n$. On parle _d'échelle logarithmique_.\n",
    "\n",
    "Quelles sont vos observations ?\n",
    "\n"
   ]
  },
  {
   "cell_type": "code",
   "execution_count": 47,
   "metadata": {},
   "outputs": [
    {
     "data": {
      "image/png": "[encoded data removed]",
      "text/plain": [
       "<Figure size 640x480 with 1 Axes>"
      ]
     },
     "metadata": {},
     "output_type": "display_data"
    },
    {
     "data": {
      "image/png": "[encoded data removed]",
      "text/plain": [
       "<Figure size 640x480 with 1 Axes>"
      ]
     },
     "metadata": {},
     "output_type": "display_data"
    }
   ],
   "source": [
    "rg = range(0, 10)\n",
    "s1 = geometric_list(3, 344, 10)\n",
    "plt.title('geometric rabbits usual')\n",
    "plt.plot(rg, s1, 'rx', markersize=4)\n",
    "plt.show()\n",
    "\n",
    "\n",
    "plt.title('geometric rabbits log')\n",
    "plt.yscale('log')\n",
    "plt.plot(rg, s1, 'b+', markersize=4)\n",
    "plt.show()\n"
   ]
  },
  {
   "cell_type": "markdown",
   "metadata": {},
   "source": [
    ">**question 3**  Décrire tous les comportements possibles pour $u_n$ selon les choix de $a$ et $r$. Quels choix sont pertinents ici en terme de modélisation ?\n"
   ]
  },
  {
   "cell_type": "markdown",
   "metadata": {},
   "source": [
    "| behaviour of $u_n$ | $q<0$ | $q=0$ | $0<q<1$ |$q=1$ |$1<q$ |\n",
    "| :- | -: | :-: |---| :-: |---|\n",
    "| $a$ | variation, limite | 0 | croissant tend vers a | a*q | ∞ |\n"
   ]
  },
  {
   "cell_type": "markdown",
   "metadata": {},
   "source": [
    ">**question 4 (à faire à la fin):** \n",
    "écrire une fonction <tt> geometric_sum </tt> qui vérifie la formule donnant la somme d'une suite arithmétique entre les borne $k$ et $n$ :\n",
    ">\n",
    ">$$\\sum_{i=k}^n u_i  = u_k\\cdot\\frac{1-q^{n-k+1}}{1-q}$$\n",
    ">\n",
    ">Essayer la formule avec $a=1, q=.00002, k=10, n=30$. Qu'en pensez-vous ?"
   ]
  },
  {
   "cell_type": "code",
   "execution_count": 54,
   "metadata": {},
   "outputs": [
    {
     "data": {
      "text/plain": [
       "False"
      ]
     },
     "execution_count": 54,
     "metadata": {},
     "output_type": "execute_result"
    }
   ],
   "source": [
    "def geometric_sum(r, a, k, n):\n",
    "    '''\n",
    "    in: common adding r, initial term ,bounds k and  n\n",
    "    type: q float, r float, n int\n",
    "    return: checks if the formula is sound\n",
    "    rtype: bool\n",
    "    '''\n",
    "    return sum([a*r**i for i in range(k,n+1)]) == (a*r**k)*(1 - r**(n - k + 1))/(1 - r)\n",
    "\n",
    "geometric_sum(.00002, 1, 10, 30)"
   ]
  },
  {
   "cell_type": "markdown",
   "metadata": {},
   "source": [
    "Cela nous retourne False car la raison est un float alors que la raison doit appartenir aux entiers relatifs"
   ]
  },
  {
   "cell_type": "markdown",
   "metadata": {},
   "source": [
    "# 3: Naturalisme : retrouver les lapins\n",
    "\n",
    "\n",
    "on va terminer par écrire des fonctions permettant de déterminer les paramètres définissant une suite donnée."
   ]
  },
  {
   "cell_type": "markdown",
   "metadata": {},
   "source": [
    ">**question 1** \n",
    ">écrire une fonction prenant en entrée 2 termes $u_m,u_n$ d'une suite arithmétique, et qui retourne les paramètres de la suite.\n"
   ]
  },
  {
   "cell_type": "code",
   "execution_count": 57,
   "metadata": {},
   "outputs": [],
   "source": [
    "def arithmetic_param(m, n, um, un):\n",
    "    if m > n:\n",
    "        ratio = um/un\n",
    "        ratio = ration / m - n\n",
    "    else:\n",
    "        ratio = un/um\n",
    "        ratio = ration / n - m\n",
    "    return ratio\n",
    "\n"
   ]
  },
  {
   "cell_type": "markdown",
   "metadata": {},
   "source": [
    ">**question 2** \n",
    ">écrire une fonction prenant en entrée 2 termes $u_m,u_n$ d'une suite géométrique, et qui retourne les paramètres de la suite."
   ]
  },
  {
   "cell_type": "code",
   "execution_count": null,
   "metadata": {},
   "outputs": [
    {
     "data": {
      "text/plain": [
       "(-2773, -9999988736)"
      ]
     },
     "execution_count": 56,
     "metadata": {},
     "output_type": "execute_result"
    }
   ],
   "source": [
    "def geom_param(m,n,um,un):\n",
    "    m = um * 1/\n",
    "    n = un - n ** n\n",
    "    \n",
    "    return m, n\n",
    "\n",
    "geom_param(5, 10, geometric_rec(2,11,5), geometric_rec(2,11,10))"
   ]
  },
  {
   "cell_type": "markdown",
   "metadata": {},
   "source": [
    ">**bonus** \n",
    ">écrire une fonction prenant en entrée 3 termes $u_{\\ell},u_m,u_n$ d'une suite dont on ignore si elle est arithmétique ou géométrique, et qui retourne la nature et les paramètres de la suite.\n"
   ]
  },
  {
   "cell_type": "code",
   "execution_count": 53,
   "metadata": {},
   "outputs": [
    {
     "data": {
      "text/plain": [
       "'error'"
      ]
     },
     "execution_count": 53,
     "metadata": {},
     "output_type": "execute_result"
    }
   ],
   "source": [
    "def ari_or_geo(l,m,n,ul,um,un):\n",
    "    \n",
    "    return 'type',-1,-1\n",
    "\n"
   ]
  },
  {
   "cell_type": "code",
   "execution_count": null,
   "metadata": {},
   "outputs": [],
   "source": []
  }
 ],
 "metadata": {
  "kernelspec": {
   "display_name": "Python 3",
   "language": "python",
   "name": "python3"
  },
  "language_info": {
   "codemirror_mode": {
    "name": "ipython",
    "version": 3
   },
   "file_extension": ".py",
   "mimetype": "text/x-python",
   "name": "python",
   "nbconvert_exporter": "python",
   "pygments_lexer": "ipython3",
   "version": "3.12.8"
  }
 },
 "nbformat": 4,
 "nbformat_minor": 4
}
